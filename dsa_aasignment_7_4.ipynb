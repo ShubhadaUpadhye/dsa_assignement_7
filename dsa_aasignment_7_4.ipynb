{
 "cells": [
  {
   "cell_type": "code",
   "execution_count": null,
   "metadata": {},
   "outputs": [],
   "source": [
    "# ans_4)Given a string s, reverse the order of characters in each word within a sentence while still preserving whitespace and initial word order.\n",
    "\n",
    "s = \"Let's take LeetCode contest\"\n",
    "t = s.split()\n",
    "word_list = []\n",
    "for i in range(len(t)):\n",
    "    for j in range(len(t[i])):\n",
    "           word_list.append(t[i][-(j+1)])\n",
    "    word_list.append(' ')\n",
    "print(''.join(word_list))"
   ]
  }
 ],
 "metadata": {
  "kernelspec": {
   "display_name": "Python 3",
   "language": "python",
   "name": "python3"
  },
  "language_info": {
   "codemirror_mode": {
    "name": "ipython",
    "version": 3
   },
   "file_extension": ".py",
   "mimetype": "text/x-python",
   "name": "python",
   "nbconvert_exporter": "python",
   "pygments_lexer": "ipython3",
   "version": "3.8.5"
  }
 },
 "nbformat": 4,
 "nbformat_minor": 4
}
