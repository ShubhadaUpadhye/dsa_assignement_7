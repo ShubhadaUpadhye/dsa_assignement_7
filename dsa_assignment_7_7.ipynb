{
 "cells": [
  {
   "cell_type": "code",
   "execution_count": null,
   "metadata": {},
   "outputs": [],
   "source": [
    "# ans7)Given two strings s and t, return true if they are equal when both are typed into empty text editors.'#' means a backspace character.\n",
    "s = \"ab#d\"\n",
    "t = \"ae#c\"\n",
    "for i in range(len(s)):\n",
    "    for j in s:\n",
    "        if j==chr(35):\n",
    "            ind=s.index(j)\n",
    "            print(ind)\n",
    "            s=s.replace(j,'')\n",
    "            s=s.replace(s[ind-1],'')\n",
    "            #print(s)\n",
    "for i in range(len(t)):\n",
    "    for j in t:\n",
    "        if j==chr(35):\n",
    "            ind=t.index(j)\n",
    "            t=t.replace(j,'')\n",
    "            t=t.replace(t[ind-1],'')\n",
    "            #print(t)\n",
    "if s==t:\n",
    "    print(True)\n",
    "else:\n",
    "    print(False)"
   ]
  }
 ],
 "metadata": {
  "kernelspec": {
   "display_name": "Python 3",
   "language": "python",
   "name": "python3"
  },
  "language_info": {
   "codemirror_mode": {
    "name": "ipython",
    "version": 3
   },
   "file_extension": ".py",
   "mimetype": "text/x-python",
   "name": "python",
   "nbconvert_exporter": "python",
   "pygments_lexer": "ipython3",
   "version": "3.8.5"
  }
 },
 "nbformat": 4,
 "nbformat_minor": 4
}
