{
 "cells": [
  {
   "cell_type": "code",
   "execution_count": null,
   "metadata": {},
   "outputs": [],
   "source": [
    "# 1) Given two strings s and t, determine if they are isomorphic.\n",
    "\n",
    "def isomorphic_strings(s,t):\n",
    "    t=set(t)\n",
    "    s=set(s)\n",
    "        \n",
    "    if len(t)==len(s):\n",
    "        print(True)\n",
    "    else:\n",
    "        print(False)\n",
    "isomorphic_strings(input(\"enter string for s:\"),input(\"enter string for t:\"))"
   ]
  }
 ],
 "metadata": {
  "kernelspec": {
   "display_name": "Python 3",
   "language": "python",
   "name": "python3"
  },
  "language_info": {
   "codemirror_mode": {
    "name": "ipython",
    "version": 3
   },
   "file_extension": ".py",
   "mimetype": "text/x-python",
   "name": "python",
   "nbconvert_exporter": "python",
   "pygments_lexer": "ipython3",
   "version": "3.8.5"
  }
 },
 "nbformat": 4,
 "nbformat_minor": 4
}
